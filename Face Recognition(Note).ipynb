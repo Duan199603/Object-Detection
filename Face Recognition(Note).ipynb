{
 "cells": [
  {
   "cell_type": "markdown",
   "metadata": {},
   "source": [
    "# Face Recognition\n",
    "\n",
    "### 1. What is Face Recognition\n",
    "#### 1.1 Recognition is much harder than verification\n",
    "##### Verfication\n",
    "a. Input image,name/ID <br>\n",
    "b. Output whether the input image is that of the claimed person<br>\n",
    "##### Recognition\n",
    "a.Has a database of K person <br>\n",
    "b.Get an input image <br>\n",
    "c.Output ID if the image is any of the K person('or not recognized')<br>"
   ]
  },
  {
   "cell_type": "markdown",
   "metadata": {},
   "source": [
    "### 2. One-shot learning problem(one training example)\n",
    "##### 2.1 Learning a similarity function\n",
    "d(img1,img2) = degree of difference between images <br>\n",
    "If d(img1,img2) <= threhold <br>\n",
    "    Then \"same\"          <br>\n",
    "    ... <br>"
   ]
  },
  {
   "cell_type": "markdown",
   "metadata": {},
   "source": [
    "### 3. Siamese Network\n",
    "Learn parameters so that: <br>\n",
    "    If xi,xj are the same person, d(xi,xj)(norm of f(xi)-f(xj)) is small.<br>\n",
    "     If xi,xj are the different person, d(xi,xj)(norm of f(xi)-f(xj)) is large.<br>"
   ]
  },
  {
   "cell_type": "markdown",
   "metadata": {},
   "source": [
    "### 4.Triplet Loss\n",
    "#### 4.1 Learning Object\n",
    "There are always an Anchor image and a postive/negative image <br>\n",
    "We want: d(A,P) <= d(A,N) <br>\n",
    "Transform to： ||f(A)-f(P)||^2 - ||f(A)-f(N)||^2 +Alpha(margin) <= 0 <br>\n",
    "#### 4.2 Loss Function\n",
    "Given 2 images: A, P, N <br>\n",
    "Loss(A,P,N) = max(||f(A)-f(P)||^2 - ||f(A)-f(N)||^2 +Alpha(margin),0) <br>\n",
    "Then minimize the loss function <br>\n",
    "Traing Set(eg):10K pictures of 1K persons.<br>\n",
    "#### 4.3 Choosing the triplets A,P,N\n",
    "During training, if A,P,N are chosen randomly,<br>\n",
    "d(A,P)+Alpha <= d(A,N) is easily satisfied <br>\n",
    "Choose triplets that're \"hard\" to train on. <br>"
   ]
  },
  {
   "cell_type": "markdown",
   "metadata": {},
   "source": [
    "### Face verification and Binary Classification\n",
    "Precomputing <br>"
   ]
  }
 ],
 "metadata": {
  "kernelspec": {
   "display_name": "Python 3",
   "language": "python",
   "name": "python3"
  },
  "language_info": {
   "codemirror_mode": {
    "name": "ipython",
    "version": 3
   },
   "file_extension": ".py",
   "mimetype": "text/x-python",
   "name": "python",
   "nbconvert_exporter": "python",
   "pygments_lexer": "ipython3",
   "version": "3.6.1"
  }
 },
 "nbformat": 4,
 "nbformat_minor": 2
}
